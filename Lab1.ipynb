{
  "nbformat": 4,
  "nbformat_minor": 0,
  "metadata": {
    "colab": {
      "provenance": [],
      "include_colab_link": true
    },
    "kernelspec": {
      "name": "python3",
      "display_name": "Python 3"
    },
    "language_info": {
      "name": "python"
    }
  },
  "cells": [
    {
      "cell_type": "markdown",
      "metadata": {
        "id": "view-in-github",
        "colab_type": "text"
      },
      "source": [
        "<a href=\\\"https://colab.research.google.com/github/acesur/GP-Lab1/blob/main/Lab1.ipynb\\\" target=\\\"_parent\\\"><img src=\\\"https://colab.research.google.com/assets/colab-badge.svg\\\" alt=\\\"Open In Colab\\\"/></a>"
      ]
    },
    {
      "cell_type": "markdown",
      "metadata": {
        "id": "title"
      },
      "source": [
        "# Bayesian Regression Analysis of LIDAR Data\\n",
        "\\n",
        "This notebook performs Bayesian regression analysis on synthetic LIDAR data:\\n",
        "- Creates 221 LIDAR observations\\n",
        "- Randomly selects 100 data points\\n",
        "- Fits Bayesian quadratic regression model\\n",
        "- Shows scatter plot with fitted model\\n",
        "- Displays posterior distributions of parameters"
      ]
    },
    {
      "cell_type": "code",
      "metadata": {
        "id": "install-packages"
      },
      "execution_count": null,
      "outputs": [],
      "source": [
        "# Install required packages\\n",
        "!pip install pymc arviz -q\\n",
        "print('📦 Packages installed successfully!')"
      ]
    },
    {
      "cell_type": "code",
      "metadata": {
        "id": "main-analysis"
      },
      "execution_count": null,
      "outputs": [],
      "source": [
        "# Bayesian LIDAR Analysis\n",
        "import numpy as np\n",
        "import pandas as pd\n",
        "import matplotlib.pyplot as plt\n",
        "import pymc as pm\n",
        "import warnings\n",
        "warnings.filterwarnings('ignore')\n",
        "np.random.seed(42)\n",
        "\n",
        "print(\"🔄 Creating LIDAR dataset...\")\n",
        "# Create LIDAR data (221 observations)\n",
        "range_vals = np.sort(np.random.uniform(390, 720, 221))\n",
        "true_function = -0.5 * ((range_vals - 500) / 100)**2 + 2\n",
        "noise = np.random.normal(0, 0.3, 221)\n",
        "logratio = true_function + noise\n",
        "lidar_data = pd.DataFrame({'range': range_vals, 'logratio': logratio})\n",
        "print(f\"✅ Full dataset: {len(lidar_data)} observations\")\n",
        "\n",
        "# Randomly select 100 points\n",
        "sample_indices = np.random.choice(221, 100, replace=False)\n",
        "X = lidar_data.iloc[sample_indices]['range'].values\n",
        "y = lidar_data.iloc[sample_indices]['logratio'].values\n",
        "X_scaled = (X - X.mean()) / X.std()\n",
        "print(f\"✅ Sample: {len(X)} observations selected\")\n",
        "\n",
        "print(\"\\n🔄 Fitting Bayesian model...\")\n",
        "# Bayesian regression\n",
        "with pm.Model() as model:\n",
        "    intercept = pm.Normal('intercept', mu=0, sigma=2.5)\n",
        "    beta1 = pm.Normal('beta1', mu=0, sigma=2.5)\n",
        "    beta2 = pm.Normal('beta2', mu=0, sigma=2.5)\n",
        "    sigma = pm.Exponential('sigma', lam=1)\n",
        "    mu = intercept + beta1 * X_scaled + beta2 * X_scaled**2\n",
        "    likelihood = pm.Normal('y_obs', mu=mu, sigma=sigma, observed=y)\n",
        "    trace = pm.sample(1000, tune=500, chains=2, random_seed=42, \n",
        "                     return_inferencedata=True, progressbar=True)\n",
        "\n",
        "print(\"✅ Model fitted!\")\n",
        "\n",
        "# Generate predictions\n",
        "X_plot = np.linspace(X.min(), X.max(), 100)\n",
        "X_plot_scaled = (X_plot - X.mean()) / X.std()\n",
        "posterior = trace.posterior\n",
        "intercept_samples = posterior['intercept'].values.flatten()\n",
        "beta1_samples = posterior['beta1'].values.flatten()\n",
        "beta2_samples = posterior['beta2'].values.flatten()\n",
        "sigma_samples = posterior['sigma'].values.flatten()\n",
        "\n",
        "predictions = []\n",
        "for i in range(len(intercept_samples)):\n",
        "    pred = intercept_samples[i] + beta1_samples[i] * X_plot_scaled + beta2_samples[i] * X_plot_scaled**2\n",
        "    predictions.append(pred)\n",
        "predictions = np.array(predictions)\n",
        "pred_mean = predictions.mean(axis=0)\n",
        "pred_lower = np.percentile(predictions, 2.5, axis=0)\n",
        "pred_upper = np.percentile(predictions, 97.5, axis=0)\n",
        "\n",
        "print(\"\\n📊 Creating plots...\")\n",
        "\n",
        "# PLOT 1: Scatter plot with fitted model\n",
        "plt.figure(figsize=(10, 6))\n",
        "plt.scatter(X, y, color='darkblue', alpha=0.7, s=50, label='Data points')\n",
        "plt.plot(X_plot, pred_mean, color='red', linewidth=2, label='Posterior mean')\n",
        "plt.fill_between(X_plot, pred_lower, pred_upper, alpha=0.3, color='red, \n",
        "                 label='95% credible interval')\n",
        "plt.xlabel('Range')\n",
        "plt.ylabel('Log Ratio')\n",
        "plt.title('Bayesian Regression: LIDAR Data Analysis')\n",
        "plt.legend()\n",
        "plt.grid(True, alpha=0.3)\n",
        "plt.show()\n",
        "\n",
        "# PLOT 2: Parameter histograms\n",
        "fig, axes = plt.subplots(2, 2, figsize=(12, 8))\n",
        "fig.suptitle('Posterior Distributions of Model Parameters', fontsize=14)\n",
        "\n",
        "params = [intercept_samples, beta1_samples, beta2_samples, sigma_samples]\n",
        "param_names = ['Intercept', 'Beta1 (Linear)', 'Beta2 (Quadratic)', 'Sigma (Noise)']\n",
        "colors = ['skyblue', 'lightgreen', 'orange', 'purple']\n",
        "\n",
        "for i, (param, name, color) in enumerate(zip(params, param_names, colors)):\n",
        "    ax = axes[i//2, i%2]\n",
        "    ax.hist(param, bins=30, alpha=0.7, color=color, edgecolor='black')\n",
        "    ax.axvline(param.mean(), color='red', linestyle='--', linewidth=2)\n",
        "    ax.set_title(name)\n",
        "    ax.set_xlabel('Parameter Value')\n",
        "    ax.set_ylabel('Frequency')\n",
        "\n",
        "plt.tight_layout()\n",
        "plt.show()\n",
        "\n",
        "print(\"🎉 Analysis Complete!\")\n",
        "print(f\"📈 Results Summary:\")\n",
        "print(f\"   • Intercept: {intercept_samples.mean():.3f} ± {intercept_samples.std():.3f}\")\n",
        "print(f\"   • Beta1: {beta1_samples.mean():.3f} ± {beta1_samples.std():.3f}\")\n",
        "print(f\"   • Beta2: {beta2_samples.mean():.3f} ± {beta2_samples.std():.3f}\")\n",
        "print(f\"   • Sigma: {sigma_samples.mean():.3f} ± {sigma_samples.std():.3f}\")"
      ]
    }
  ]
}
